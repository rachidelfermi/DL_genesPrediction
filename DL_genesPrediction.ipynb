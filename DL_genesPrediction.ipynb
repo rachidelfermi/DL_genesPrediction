{
  "nbformat": 4,
  "nbformat_minor": 0,
  "metadata": {
    "colab": {
      "name": "30dataColab_25GBRAM_GPU_Techhawa.ipynb",
      "provenance": [],
      "collapsed_sections": [],
      "machine_shape": "hm",
      "include_colab_link": true
    },
    "kernelspec": {
      "name": "python3",
      "display_name": "Python 3"
    },
    "accelerator": "GPU"
  },
  "cells": [
    {
      "cell_type": "markdown",
      "metadata": {
        "id": "view-in-github",
        "colab_type": "text"
      },
      "source": [
        "<a href=\"https://colab.research.google.com/github/rachidelfermi/DL_genesPrediction/blob/master/DL_genesPrediction.ipynb\" target=\"_parent\"><img src=\"https://colab.research.google.com/assets/colab-badge.svg\" alt=\"Open In Colab\"/></a>"
      ]
    },
    {
      "cell_type": "code",
      "metadata": {
        "id": "3fWoyNE6ybI8",
        "colab_type": "code",
        "colab": {
          "base_uri": "https://localhost:8080/",
          "height": 52
        },
        "outputId": "0b45575e-edc1-41f1-8817-9d89eee723c8"
      },
      "source": [
        "%%time\n",
        "import numpy as np\n",
        "from scipy.io import loadmat\n",
        "from numpy import array,argmax\n",
        "from sklearn.preprocessing import LabelEncoder\n",
        "from sklearn.preprocessing import OneHotEncoder\n",
        "from warnings import simplefilter\n",
        "from keras.optimizers import SGD\n",
        "import tensorflow as tf\n",
        "from keras.layers import Conv1D, Dense, MaxPooling1D, Flatten, Dropout\n",
        "from keras.models import Sequential\n",
        "from sklearn import metrics\n",
        "from scipy.io import loadmat\n",
        "from sklearn.metrics import confusion_matrix\n",
        "simplefilter(action='ignore', category=FutureWarning)"
      ],
      "execution_count": 3,
      "outputs": [
        {
          "output_type": "stream",
          "text": [
            "CPU times: user 1.67 s, sys: 303 ms, total: 1.97 s\n",
            "Wall time: 7.38 s\n"
          ],
          "name": "stdout"
        }
      ]
    },
    {
      "cell_type": "code",
      "metadata": {
        "id": "TzCeXxlFyp6I",
        "colab_type": "code",
        "colab": {
          "base_uri": "https://localhost:8080/",
          "height": 52
        },
        "outputId": "d384bc20-7ceb-4519-f812-eef90ce7ca09"
      },
      "source": [
        "%%time\n",
        "annots = loadmat('drive/My Drive/TrainingPart2_131207.mat')"
      ],
      "execution_count": 4,
      "outputs": [
        {
          "output_type": "stream",
          "text": [
            "CPU times: user 23 s, sys: 2.61 s, total: 25.6 s\n",
            "Wall time: 25.7 s\n"
          ],
          "name": "stdout"
        }
      ]
    },
    {
      "cell_type": "code",
      "metadata": {
        "id": "zQkRXHV9yp-u",
        "colab_type": "code",
        "colab": {
          "base_uri": "https://localhost:8080/",
          "height": 70
        },
        "outputId": "13aa8a6d-3dea-4f6e-e2f8-cef014c33a6b"
      },
      "source": [
        "%%time\n",
        "sequence=[]\n",
        "label=[]\n",
        "print(\"A =\",ord(\"A\"),\"C =\",ord(\"C\"),\"G =\",ord(\"G\"),\"T =\",ord(\"T\"))\n",
        "for i in range(0,200000,1):\n",
        "    valid =(np.count_nonzero(annots['OrfSeqs'][i][0][0]==65, axis=0)>=1 and np.count_nonzero(annots['OrfSeqs'][i][0][0]==67, axis=0)>=1 \n",
        "    and np.count_nonzero(annots['OrfSeqs'][i][0][0]==71, axis=0)>=1 and np.count_nonzero(annots['OrfSeqs'][i][0][0]==84, axis=0)>=1 )\n",
        "    if valid == True :\n",
        "        sequence.append(annots['OrfSeqs'][i][0][0])\n",
        "        label.append(1 if annots['CandLabel'][i][0]==1 else 0)\n"
      ],
      "execution_count": 5,
      "outputs": [
        {
          "output_type": "stream",
          "text": [
            "A = 65 C = 67 G = 71 T = 84\n",
            "CPU times: user 8.37 s, sys: 21.6 ms, total: 8.39 s\n",
            "Wall time: 8.39 s\n"
          ],
          "name": "stdout"
        }
      ]
    },
    {
      "cell_type": "code",
      "metadata": {
        "id": "-gA9s9YpIzrw",
        "colab_type": "code",
        "colab": {
          "base_uri": "https://localhost:8080/",
          "height": 369
        },
        "outputId": "d984a334-0d15-488d-e104-d84e890fa9f4"
      },
      "source": [
        "sequence[:3]"
      ],
      "execution_count": 7,
      "outputs": [
        {
          "output_type": "execute_result",
          "data": {
            "text/plain": [
              "[array([65, 84, 71, 84, 71, 67, 84, 84, 71, 65, 65, 71, 67, 84, 71, 67, 84,\n",
              "        67, 84, 71, 71, 67, 71, 84, 84, 67, 67, 67, 84, 67, 65, 67, 67, 67,\n",
              "        84, 71, 65, 65, 84, 84, 84, 84, 71, 67, 67, 84, 84, 67, 67, 71, 67,\n",
              "        84, 65, 67, 65, 65, 67, 65, 84, 65, 65, 65, 84, 65, 84, 65, 71, 84,\n",
              "        67, 71, 71, 67, 65, 65, 84, 67, 71, 65, 67, 65, 65, 84, 71, 84, 84,\n",
              "        84, 67, 65, 71, 67, 71, 65, 67, 65, 84, 67, 71, 84, 71, 84, 71, 65],\n",
              "       dtype=uint8),\n",
              " array([84, 84, 71, 71, 67, 67, 65, 71, 67, 71, 65, 65, 65, 71, 71, 84, 84,\n",
              "        67, 65, 84, 67, 65, 84, 65, 67, 65, 84, 65, 65, 84, 67, 65, 71, 65,\n",
              "        84, 67, 65, 71, 71, 65, 84, 67, 67, 65, 71, 84, 71, 67, 65, 65, 84,\n",
              "        65, 71, 67, 65, 67, 71, 67, 71, 67, 67, 65, 71, 65, 71, 67, 67, 65,\n",
              "        67, 65, 67, 71, 65, 67, 71, 65, 84, 84, 67, 65, 84, 65, 67, 67, 65,\n",
              "        67, 67, 65, 71, 65, 84, 65, 65], dtype=uint8),\n",
              " array([65, 84, 71, 67, 71, 67, 65, 67, 71, 65, 65, 84, 84, 71, 71, 71, 65,\n",
              "        65, 65, 71, 67, 65, 65, 67, 65, 84, 84, 84, 84, 67, 65, 84, 65, 84,\n",
              "        65, 67, 67, 71, 65, 67, 65, 84, 65, 84, 67, 84, 71, 84, 65, 65, 65,\n",
              "        67, 65, 65, 67, 71, 67, 65, 67, 67, 65, 67, 84, 67, 84, 71, 71, 65,\n",
              "        65, 67, 65, 71, 67, 65, 84, 84, 67, 67, 67, 65, 84, 84, 67, 71, 71,\n",
              "        71, 67, 65, 67, 71, 84, 71, 67, 65, 71, 67, 65, 65, 65, 84, 65, 71],\n",
              "       dtype=uint8)]"
            ]
          },
          "metadata": {
            "tags": []
          },
          "execution_count": 7
        }
      ]
    },
    {
      "cell_type": "code",
      "metadata": {
        "id": "OzW_cRBiJQzC",
        "colab_type": "code",
        "colab": {
          "base_uri": "https://localhost:8080/",
          "height": 34
        },
        "outputId": "a5bff961-66e2-4a7a-d8bf-0be3c2002e43"
      },
      "source": [
        "orfLenght=[]\n",
        "for orf in sequence:\n",
        "  orfLenght.append(len(orf))\n",
        "print(orfLenght[:30])"
      ],
      "execution_count": 13,
      "outputs": [
        {
          "output_type": "stream",
          "text": [
            "[102, 93, 102, 252, 162, 108, 90, 126, 81, 72, 582, 63, 63, 84, 132, 66, 186, 60, 69, 237, 87, 90, 177, 66, 72, 90, 84, 483, 66, 96]\n"
          ],
          "name": "stdout"
        }
      ]
    },
    {
      "cell_type": "code",
      "metadata": {
        "id": "gh46qyarJ8kr",
        "colab_type": "code",
        "colab": {
          "base_uri": "https://localhost:8080/",
          "height": 320
        },
        "outputId": "0ef42069-7cce-4b66-c678-783dbde1763d"
      },
      "source": [
        "import seaborn as sns\n",
        "import matplotlib.pyplot as plt\n",
        "plt.figure(figsize=(15,5))\n",
        "sns.distplot(orfLenght)\n",
        "plt.show()"
      ],
      "execution_count": 18,
      "outputs": [
        {
          "output_type": "display_data",
          "data": {
            "image/png": "[encoded data removed]",
            "text/plain": [
              "<Figure size 1080x360 with 1 Axes>"
            ]
          },
          "metadata": {
            "tags": [],
            "needs_background": "light"
          }
        }
      ]
    },
    {
      "cell_type": "code",
      "metadata": {
        "id": "NN8lXazNK5J6",
        "colab_type": "code",
        "colab": {
          "base_uri": "https://localhost:8080/",
          "height": 228
        },
        "outputId": "c7199afb-da20-41b0-bf34-146fe40f0c95"
      },
      "source": [
        "%%time\n",
        "\n",
        "def onehote(seq):\n",
        "    seq2=list()\n",
        "    mapping = {65:[1., 0., 0., 0.], 67: [0., 1., 0., 0.], 71: [1., 0., 0., 0.], 84:[0., 0., 0., 1.]}\n",
        "    for i in seq:\n",
        "      seq2.append(mapping[i]  if i in mapping.keys() else [0., 0., 0., 0.]) \n",
        "    return np.array(seq2)\n",
        "oneHotEncoded=[]\n",
        "\n",
        "for orf in sequence:\n",
        "    oneHotEncoded.append(onehote(orf))\n",
        "#printing the first 10 bases encoded of an orf\n",
        "print(oneHotEncoded[0][:10])"
      ],
      "execution_count": 22,
      "outputs": [
        {
          "output_type": "stream",
          "text": [
            "[[1. 0. 0. 0.]\n",
            " [0. 0. 0. 1.]\n",
            " [1. 0. 0. 0.]\n",
            " [0. 0. 0. 1.]\n",
            " [1. 0. 0. 0.]\n",
            " [0. 1. 0. 0.]\n",
            " [0. 0. 0. 1.]\n",
            " [0. 0. 0. 1.]\n",
            " [1. 0. 0. 0.]\n",
            " [1. 0. 0. 0.]]\n",
            "CPU times: user 1min 49s, sys: 335 ms, total: 1min 49s\n",
            "Wall time: 1min 49s\n"
          ],
          "name": "stdout"
        }
      ]
    },
    {
      "cell_type": "code",
      "metadata": {
        "id": "ADm1v7fbOtGb",
        "colab_type": "code",
        "colab": {
          "base_uri": "https://localhost:8080/",
          "height": 34
        },
        "outputId": "9b4df25b-1f43-4313-d199-daf9693cd049"
      },
      "source": [
        "def padding(seq):\n",
        "   return np.stack(tf.keras.preprocessing.sequence.pad_sequences(seq, padding=\"post\"))\n",
        "input_features = padding(oneHotEncoded)\n",
        "#lenght of the ORFs now is Standardize to 705 the longest ORF\n",
        "print(len(input_features[0]))"
      ],
      "execution_count": 23,
      "outputs": [
        {
          "output_type": "stream",
          "text": [
            "705\n"
          ],
          "name": "stdout"
        }
      ]
    },
    {
      "cell_type": "code",
      "metadata": {
        "id": "CWvw4RolQZf0",
        "colab_type": "code",
        "colab": {
          "base_uri": "https://localhost:8080/",
          "height": 193
        },
        "outputId": "36c196b3-9c62-4825-f039-c208ea253a2b"
      },
      "source": [
        "def encodeLabel(labels):\n",
        "    one_hot_encoder = OneHotEncoder()\n",
        "    labels = np.array(labels).reshape(-1, 1)\n",
        "    labels = one_hot_encoder.fit_transform(labels).toarray()\n",
        "    return labels\n",
        "input_labels=encodeLabel(label)\n",
        "#printing the first 10 encoded labels\n",
        "print(input_labels[:10])"
      ],
      "execution_count": 26,
      "outputs": [
        {
          "output_type": "stream",
          "text": [
            "[[1. 0.]\n",
            " [1. 0.]\n",
            " [1. 0.]\n",
            " [1. 0.]\n",
            " [1. 0.]\n",
            " [1. 0.]\n",
            " [1. 0.]\n",
            " [0. 1.]\n",
            " [1. 0.]\n",
            " [1. 0.]]\n"
          ],
          "name": "stdout"
        }
      ]
    },
    {
      "cell_type": "code",
      "metadata": {
        "id": "3xt6qZ2YS6J1",
        "colab_type": "code",
        "colab": {}
      },
      "source": [
        "from sklearn.model_selection import train_test_split\n",
        "\n",
        "train_features, test_features, train_labels, test_labels = train_test_split(\n",
        "    input_features, input_labels, test_size=0.25, random_state=42)"
      ],
      "execution_count": 27,
      "outputs": []
    },
    {
      "cell_type": "code",
      "metadata": {
        "id": "rTr5sX3JyqPv",
        "colab_type": "code",
        "colab": {
          "base_uri": "https://localhost:8080/",
          "height": 474
        },
        "outputId": "a0dad1ce-f205-4028-d156-5f86317fecea"
      },
      "source": [
        "model = Sequential()\n",
        "model.add(Conv1D(filters=64, kernel_size=21, input_shape=(train_features.shape[1], 4), \n",
        "                padding='same', activation='relu'))\n",
        "model.add(MaxPooling1D(pool_size=2))\n",
        "model.add(Conv1D(filters=200, kernel_size=21, padding='same', activation='relu'))\n",
        "model.add(MaxPooling1D(pool_size=2))\n",
        "model.add(Dropout(0.5))\n",
        "model.add(Flatten())\n",
        "model.add(Dense(128, activation='relu'))\n",
        "model.add(Dropout(0.5))\n",
        "model.add(Dense(2, activation='softmax'))\n",
        "\n",
        "epochs = 50\n",
        "lrate = 0.01\n",
        "decay = lrate / epochs\n",
        "sgd = SGD(lr = lrate, momentum = 0.9, decay = decay, nesterov = False)\n",
        "model.compile(loss='binary_crossentropy', optimizer=sgd, metrics=['binary_accuracy'])\n",
        "model.summary()\n"
      ],
      "execution_count": 29,
      "outputs": [
        {
          "output_type": "stream",
          "text": [
            "Model: \"sequential_1\"\n",
            "_________________________________________________________________\n",
            "Layer (type)                 Output Shape              Param #   \n",
            "=================================================================\n",
            "conv1d_2 (Conv1D)            (None, 705, 64)           5440      \n",
            "_________________________________________________________________\n",
            "max_pooling1d_2 (MaxPooling1 (None, 352, 64)           0         \n",
            "_________________________________________________________________\n",
            "conv1d_3 (Conv1D)            (None, 352, 200)          269000    \n",
            "_________________________________________________________________\n",
            "max_pooling1d_3 (MaxPooling1 (None, 176, 200)          0         \n",
            "_________________________________________________________________\n",
            "dropout_2 (Dropout)          (None, 176, 200)          0         \n",
            "_________________________________________________________________\n",
            "flatten_1 (Flatten)          (None, 35200)             0         \n",
            "_________________________________________________________________\n",
            "dense_2 (Dense)              (None, 128)               4505728   \n",
            "_________________________________________________________________\n",
            "dropout_3 (Dropout)          (None, 128)               0         \n",
            "_________________________________________________________________\n",
            "dense_3 (Dense)              (None, 2)                 258       \n",
            "=================================================================\n",
            "Total params: 4,780,426\n",
            "Trainable params: 4,780,426\n",
            "Non-trainable params: 0\n",
            "_________________________________________________________________\n"
          ],
          "name": "stdout"
        }
      ]
    },
    {
      "cell_type": "code",
      "metadata": {
        "id": "SOx6te7hyqC2",
        "colab_type": "code",
        "colab": {
          "base_uri": "https://localhost:8080/",
          "height": 1814
        },
        "outputId": "af256456-8b95-4db8-ad62-1d910cfea1f3"
      },
      "source": [
        "history = model.fit(train_features, train_labels, \n",
        "                    epochs=epochs, verbose=2, validation_split=0.25, batch_size=256, shuffle=True)"
      ],
      "execution_count": 31,
      "outputs": [
        {
          "output_type": "stream",
          "text": [
            "Epoch 1/50\n",
            "WARNING:tensorflow:Callbacks method `on_train_batch_end` is slow compared to the batch time (batch time: 0.0101s vs `on_train_batch_end` time: 0.0181s). Check your callbacks.\n",
            "440/440 - 13s - loss: 0.0286 - binary_accuracy: 0.9898 - val_loss: 0.0814 - val_binary_accuracy: 0.9750\n",
            "Epoch 2/50\n",
            "440/440 - 13s - loss: 0.0274 - binary_accuracy: 0.9900 - val_loss: 0.0812 - val_binary_accuracy: 0.9752\n",
            "Epoch 3/50\n",
            "440/440 - 13s - loss: 0.0279 - binary_accuracy: 0.9900 - val_loss: 0.0798 - val_binary_accuracy: 0.9755\n",
            "Epoch 4/50\n",
            "440/440 - 13s - loss: 0.0268 - binary_accuracy: 0.9905 - val_loss: 0.0820 - val_binary_accuracy: 0.9750\n",
            "Epoch 5/50\n",
            "440/440 - 13s - loss: 0.0265 - binary_accuracy: 0.9906 - val_loss: 0.0811 - val_binary_accuracy: 0.9750\n",
            "Epoch 6/50\n",
            "440/440 - 13s - loss: 0.0258 - binary_accuracy: 0.9905 - val_loss: 0.0797 - val_binary_accuracy: 0.9755\n",
            "Epoch 7/50\n",
            "440/440 - 13s - loss: 0.0253 - binary_accuracy: 0.9911 - val_loss: 0.0857 - val_binary_accuracy: 0.9749\n",
            "Epoch 8/50\n",
            "440/440 - 13s - loss: 0.0254 - binary_accuracy: 0.9911 - val_loss: 0.0853 - val_binary_accuracy: 0.9749\n",
            "Epoch 9/50\n",
            "440/440 - 13s - loss: 0.0236 - binary_accuracy: 0.9917 - val_loss: 0.0888 - val_binary_accuracy: 0.9749\n",
            "Epoch 10/50\n",
            "440/440 - 13s - loss: 0.0235 - binary_accuracy: 0.9914 - val_loss: 0.0853 - val_binary_accuracy: 0.9755\n",
            "Epoch 11/50\n",
            "440/440 - 13s - loss: 0.0228 - binary_accuracy: 0.9923 - val_loss: 0.0853 - val_binary_accuracy: 0.9753\n",
            "Epoch 12/50\n",
            "440/440 - 13s - loss: 0.0226 - binary_accuracy: 0.9921 - val_loss: 0.0857 - val_binary_accuracy: 0.9751\n",
            "Epoch 13/50\n",
            "440/440 - 13s - loss: 0.0217 - binary_accuracy: 0.9925 - val_loss: 0.0863 - val_binary_accuracy: 0.9753\n",
            "Epoch 14/50\n",
            "440/440 - 13s - loss: 0.0218 - binary_accuracy: 0.9924 - val_loss: 0.0887 - val_binary_accuracy: 0.9753\n",
            "Epoch 15/50\n",
            "440/440 - 13s - loss: 0.0214 - binary_accuracy: 0.9924 - val_loss: 0.0883 - val_binary_accuracy: 0.9758\n",
            "Epoch 16/50\n",
            "440/440 - 13s - loss: 0.0206 - binary_accuracy: 0.9930 - val_loss: 0.0881 - val_binary_accuracy: 0.9755\n",
            "Epoch 17/50\n",
            "440/440 - 13s - loss: 0.0209 - binary_accuracy: 0.9928 - val_loss: 0.0888 - val_binary_accuracy: 0.9752\n",
            "Epoch 18/50\n",
            "440/440 - 13s - loss: 0.0201 - binary_accuracy: 0.9930 - val_loss: 0.0899 - val_binary_accuracy: 0.9754\n",
            "Epoch 19/50\n",
            "440/440 - 13s - loss: 0.0196 - binary_accuracy: 0.9932 - val_loss: 0.0886 - val_binary_accuracy: 0.9753\n",
            "Epoch 20/50\n",
            "440/440 - 13s - loss: 0.0195 - binary_accuracy: 0.9932 - val_loss: 0.0877 - val_binary_accuracy: 0.9750\n",
            "Epoch 21/50\n",
            "440/440 - 13s - loss: 0.0189 - binary_accuracy: 0.9936 - val_loss: 0.0875 - val_binary_accuracy: 0.9757\n",
            "Epoch 22/50\n",
            "440/440 - 13s - loss: 0.0189 - binary_accuracy: 0.9934 - val_loss: 0.0873 - val_binary_accuracy: 0.9756\n",
            "Epoch 23/50\n",
            "440/440 - 13s - loss: 0.0188 - binary_accuracy: 0.9936 - val_loss: 0.0924 - val_binary_accuracy: 0.9749\n",
            "Epoch 24/50\n",
            "440/440 - 13s - loss: 0.0179 - binary_accuracy: 0.9938 - val_loss: 0.0931 - val_binary_accuracy: 0.9751\n",
            "Epoch 25/50\n",
            "440/440 - 13s - loss: 0.0176 - binary_accuracy: 0.9942 - val_loss: 0.0939 - val_binary_accuracy: 0.9755\n",
            "Epoch 26/50\n",
            "440/440 - 13s - loss: 0.0172 - binary_accuracy: 0.9942 - val_loss: 0.0887 - val_binary_accuracy: 0.9753\n",
            "Epoch 27/50\n",
            "440/440 - 13s - loss: 0.0177 - binary_accuracy: 0.9940 - val_loss: 0.0913 - val_binary_accuracy: 0.9752\n",
            "Epoch 28/50\n",
            "440/440 - 13s - loss: 0.0172 - binary_accuracy: 0.9941 - val_loss: 0.0887 - val_binary_accuracy: 0.9756\n",
            "Epoch 29/50\n",
            "440/440 - 13s - loss: 0.0166 - binary_accuracy: 0.9944 - val_loss: 0.0885 - val_binary_accuracy: 0.9752\n",
            "Epoch 30/50\n",
            "440/440 - 13s - loss: 0.0163 - binary_accuracy: 0.9945 - val_loss: 0.0899 - val_binary_accuracy: 0.9755\n",
            "Epoch 31/50\n",
            "440/440 - 13s - loss: 0.0160 - binary_accuracy: 0.9944 - val_loss: 0.0918 - val_binary_accuracy: 0.9753\n",
            "Epoch 32/50\n",
            "440/440 - 13s - loss: 0.0161 - binary_accuracy: 0.9946 - val_loss: 0.0925 - val_binary_accuracy: 0.9755\n",
            "Epoch 33/50\n",
            "440/440 - 13s - loss: 0.0152 - binary_accuracy: 0.9949 - val_loss: 0.0947 - val_binary_accuracy: 0.9755\n",
            "Epoch 34/50\n",
            "440/440 - 13s - loss: 0.0157 - binary_accuracy: 0.9948 - val_loss: 0.0937 - val_binary_accuracy: 0.9755\n",
            "Epoch 35/50\n",
            "440/440 - 13s - loss: 0.0154 - binary_accuracy: 0.9949 - val_loss: 0.0967 - val_binary_accuracy: 0.9750\n",
            "Epoch 36/50\n",
            "440/440 - 13s - loss: 0.0148 - binary_accuracy: 0.9950 - val_loss: 0.0948 - val_binary_accuracy: 0.9756\n",
            "Epoch 37/50\n",
            "440/440 - 13s - loss: 0.0146 - binary_accuracy: 0.9953 - val_loss: 0.0955 - val_binary_accuracy: 0.9753\n",
            "Epoch 38/50\n",
            "440/440 - 13s - loss: 0.0142 - binary_accuracy: 0.9953 - val_loss: 0.0928 - val_binary_accuracy: 0.9751\n",
            "Epoch 39/50\n",
            "440/440 - 13s - loss: 0.0138 - binary_accuracy: 0.9953 - val_loss: 0.0969 - val_binary_accuracy: 0.9755\n",
            "Epoch 40/50\n",
            "440/440 - 13s - loss: 0.0143 - binary_accuracy: 0.9952 - val_loss: 0.0948 - val_binary_accuracy: 0.9755\n",
            "Epoch 41/50\n",
            "440/440 - 13s - loss: 0.0140 - binary_accuracy: 0.9952 - val_loss: 0.0931 - val_binary_accuracy: 0.9757\n",
            "Epoch 42/50\n",
            "440/440 - 13s - loss: 0.0135 - binary_accuracy: 0.9955 - val_loss: 0.0984 - val_binary_accuracy: 0.9754\n",
            "Epoch 43/50\n",
            "440/440 - 13s - loss: 0.0138 - binary_accuracy: 0.9955 - val_loss: 0.0966 - val_binary_accuracy: 0.9754\n",
            "Epoch 44/50\n",
            "440/440 - 13s - loss: 0.0135 - binary_accuracy: 0.9956 - val_loss: 0.0978 - val_binary_accuracy: 0.9757\n",
            "Epoch 45/50\n",
            "440/440 - 13s - loss: 0.0126 - binary_accuracy: 0.9960 - val_loss: 0.0995 - val_binary_accuracy: 0.9755\n",
            "Epoch 46/50\n",
            "440/440 - 13s - loss: 0.0129 - binary_accuracy: 0.9956 - val_loss: 0.0948 - val_binary_accuracy: 0.9754\n",
            "Epoch 47/50\n",
            "440/440 - 13s - loss: 0.0128 - binary_accuracy: 0.9957 - val_loss: 0.0998 - val_binary_accuracy: 0.9757\n",
            "Epoch 48/50\n",
            "440/440 - 13s - loss: 0.0128 - binary_accuracy: 0.9959 - val_loss: 0.0980 - val_binary_accuracy: 0.9755\n",
            "Epoch 49/50\n",
            "440/440 - 13s - loss: 0.0121 - binary_accuracy: 0.9962 - val_loss: 0.0935 - val_binary_accuracy: 0.9756\n",
            "Epoch 50/50\n",
            "440/440 - 13s - loss: 0.0126 - binary_accuracy: 0.9960 - val_loss: 0.0983 - val_binary_accuracy: 0.9756\n"
          ],
          "name": "stdout"
        }
      ]
    },
    {
      "cell_type": "code",
      "metadata": {
        "id": "tRUvxtJEYYam",
        "colab_type": "code",
        "colab": {
          "base_uri": "https://localhost:8080/",
          "height": 87
        },
        "outputId": "7c383e63-a0ce-4bda-c647-b9911328e415"
      },
      "source": [
        "predicted_labels = model.predict(np.stack(test_features))\n",
        "scores = model.evaluate(test_features, test_labels, verbose=0)\n",
        "confusion = metrics.confusion_matrix(np.argmax(test_labels, axis=1), np.argmax(predicted_labels, axis=1))\n",
        "TP = confusion[1, 1]\n",
        "FP = confusion[0, 1]\n",
        "FN = confusion[1, 0]\n",
        "FN = confusion[1, 0]\n",
        "Recall=TP / float(TP + FN)\n",
        "Precision=TP / float(TP + FP)\n",
        "print(\"Accuracy: %.2f%%\" % (scores[1]*100))\n",
        "print('Sensitivity  ',Recall)\n",
        "print('specificity ',Precision)\n",
        "print('harmonic mean ',2*(Recall * Precision) / (Recall + Precision))\n",
        "\n"
      ],
      "execution_count": 34,
      "outputs": [
        {
          "output_type": "stream",
          "text": [
            "Accuracy: 97.73%\n",
            "Sensitivity   0.8657152682255846\n",
            "specificity  0.93396401409757\n",
            "harmonic mean  0.8985455518872133\n"
          ],
          "name": "stdout"
        }
      ]
    }
  ]
}